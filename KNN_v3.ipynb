{
 "cells": [
  {
   "cell_type": "code",
   "execution_count": 1,
   "metadata": {},
   "outputs": [
    {
     "name": "stderr",
     "output_type": "stream",
     "text": [
      "Using TensorFlow backend.\n"
     ]
    }
   ],
   "source": [
    "#Data pre-processed version\n",
    "#Full metafile data version\n",
    "#Dependencies\n",
    "import os\n",
    "import csv\n",
    "import pandas as pd\n",
    "import warnings\n",
    "warnings.filterwarnings('ignore')\n",
    "from voicedata import voicedata\n",
    "\n",
    "# Data Manupulation\n",
    "import numpy as np\n",
    "import pandas as pd\n",
    "import math\n",
    "\n",
    "# Plotting graphs\n",
    "import matplotlib.pyplot as plt\n",
    "\n",
    "# Required Sklearn libraries Machine learning libraries\n",
    "from sklearn.neighbors import KNeighborsClassifier\n",
    "\n",
    "from sklearn.model_selection import train_test_split\n",
    "\n",
    "#testing model\n",
    "from sklearn.metrics import confusion_matrix, f1_score, accuracy_score, mean_squared_error, r2_score\n",
    "\n",
    "# Data fetching\n",
    "#from pandas_datareader import data as pdr\n",
    "\n",
    "#using python 3.6"
   ]
  },
  {
   "cell_type": "markdown",
   "metadata": {},
   "source": [
    "KNN stores the entire training dataset which it uses as its representation. Where can use KNN? The data should be smaller and noise-free.\n",
    "KNN does not learn any model. It is a lazy learner because it does not learn a discriminitive function in the dataset.\n",
    "KNN makes predictions just-in-time by calculating the similarity between an input sample and each training instance.\n",
    "There are many distance measures to choose from to match the structure of your input data.\n",
    "That it is a good idea to rescale your data, such as using normalization, when using KNN."
   ]
  },
  {
   "cell_type": "code",
   "execution_count": 3,
   "metadata": {},
   "outputs": [
    {
     "name": "stdout",
     "output_type": "stream",
     "text": [
      "(6750, 4)\n",
      "(2250, 4)\n"
     ]
    }
   ],
   "source": [
    "#Getting data\n",
    "#df = pd.read_csv(\"Resources\\\\voice.csv\")\n",
    "#(X_train, X_test,\n",
    "#genc, g_train, g_train_enc, g_train_cat, g_test, g_test_enc, g_test_cat,\n",
    "#nenc, n_train, n_train_enc, n_train_cat, n_test, n_test_enc, n_test_cat,\n",
    "#ienc, i_train, i_train_enc, i_train_cat, i_test, i_test_enc, i_test_cat) = voicedata()\n",
    "\n",
    "vtrainfile = 'vtrain_200'\n",
    "vtestfile  = 'vtest_200'\n",
    "(X_train, X_test,\n",
    "genc, g_train, g_train_enc, g_train_cat, g_test, g_test_enc, g_test_cat,\n",
    "nenc, n_train, n_train_enc, n_train_cat, n_test, n_test_enc, n_test_cat,\n",
    "ienc, i_train, i_train_enc, i_train_cat, i_test, i_test_enc, i_test_cat) = voicedata(vtrainfile, vtestfile)\n",
    "\n",
    "#df.head()"
   ]
  },
  {
   "cell_type": "code",
   "execution_count": 4,
   "metadata": {},
   "outputs": [
    {
     "name": "stdout",
     "output_type": "stream",
     "text": [
      "(6750, 40)\n",
      "(2250, 40)\n",
      "(6750, 2)\n",
      "(2250, 2)\n",
      "(6750, 17)\n",
      "(2250, 17)\n",
      "(6750, 200)\n",
      "(2250, 200)\n"
     ]
    }
   ],
   "source": [
    "#Check the length of the dataset. This is length of y:\n",
    "#len(df)\n",
    "print(X_train.shape) \n",
    "print(X_test.shape) \n",
    "print(g_train_cat.shape) \n",
    "print(g_test_cat.shape) \n",
    "print(n_train_cat.shape) \n",
    "print(n_test_cat.shape) \n",
    "print(i_train_cat.shape) \n",
    "print(i_test_cat.shape) "
   ]
  },
  {
   "cell_type": "markdown",
   "metadata": {},
   "source": [
    "Data preprocessing"
   ]
  },
  {
   "cell_type": "code",
   "execution_count": 4,
   "metadata": {},
   "outputs": [],
   "source": [
    "# Assign X (data) and y (target)\n",
    "#X = df.drop(\"label\", axis=1)\n",
    "#y = df[\"label\"]\n",
    "#print(X.shape, y.shape)\n",
    "\n",
    "\n",
    "#Dummy encoding\n",
    "#data = X.copy()\n",
    "#data_binary_encoded = pd.get_dummies(data, columns=[\"label\"])\n",
    "#data_binary_encoded.head()\n",
    "#Dummy Encoding\n",
    "#data = X.copy()\n",
    "#data_binary_encoded = pd.get_dummies(data, columns=[\"gender\"], drop_first = True)\n",
    "#data_binary_encoded.head()"
   ]
  },
  {
   "cell_type": "code",
   "execution_count": 5,
   "metadata": {},
   "outputs": [],
   "source": [
    "#target = df[\"Outcome\"]\n",
    "#target_names = [\"negative\", \"positive\"]"
   ]
  },
  {
   "cell_type": "code",
   "execution_count": 6,
   "metadata": {},
   "outputs": [],
   "source": [
    "#from sklearn.model_selection import train_test_split\n",
    "#X_train, X_test, y_train, y_test = train_test_split(X, y, random_state=1, stratify=y)\n",
    "#len(X_train)\n",
    "#data = df.drop(\"Outcome\", axis=1)\n",
    "#feature_names = data.columns\n",
    "#data.head()"
   ]
  },
  {
   "cell_type": "code",
   "execution_count": 7,
   "metadata": {},
   "outputs": [],
   "source": [
    "#from sklearn.model_selection import train_test_split\n",
    "#X_train, X_test, y_train, y_test = train_test_split(data, target, random_state=42)\n",
    "\n",
    "#For slicing data to look at all rows, 0 to 7 columns, test 20%\n",
    "#x = dataset.iloc[:, 0:8]\n",
    "##just column 8\n",
    "#y = dataset.iloc[:, 8]\n",
    "\n",
    "#X_train, X_test, y_train, y_test = train_test_split(X, y, random_state=0, test_size=0.2)"
   ]
  },
  {
   "cell_type": "code",
   "execution_count": 8,
   "metadata": {},
   "outputs": [],
   "source": [
    "#plt.hist(df['meanfreq'], bins = 2)\n",
    "#scalinng data\n",
    "#sc_x = StandardScalar()\n",
    "#X_train = sc_X.fit_transorm(X_train)\n",
    "#X_test = sc_X.transform(X_test)"
   ]
  },
  {
   "cell_type": "code",
   "execution_count": 9,
   "metadata": {},
   "outputs": [],
   "source": [
    "#plt.hist(df['label'], bins = 2)"
   ]
  },
  {
   "cell_type": "markdown",
   "metadata": {},
   "source": [
    "How do we choose the factor k? The KNN algorithm is based on feature similarity. Choosing the right k is a process called parameter tuning. It is important to find the better k for the best accuracy. An odd value for k is selected to avoid confusion between two classes of data. Some people use the square root of n where n is the number of data points."
   ]
  },
  {
   "cell_type": "code",
   "execution_count": 5,
   "metadata": {},
   "outputs": [
    {
     "data": {
      "text/plain": [
       "82.15838362577492"
      ]
     },
     "execution_count": 5,
     "metadata": {},
     "output_type": "execute_result"
    }
   ],
   "source": [
    "math.sqrt(len(X_train))"
   ]
  },
  {
   "cell_type": "code",
   "execution_count": 6,
   "metadata": {},
   "outputs": [
    {
     "data": {
      "text/plain": [
       "47.43416490252569"
      ]
     },
     "execution_count": 6,
     "metadata": {},
     "output_type": "execute_result"
    }
   ],
   "source": [
    "math.sqrt(len(g_test_cat))"
   ]
  },
  {
   "cell_type": "code",
   "execution_count": 7,
   "metadata": {},
   "outputs": [
    {
     "data": {
      "text/plain": [
       "47.43416490252569"
      ]
     },
     "execution_count": 7,
     "metadata": {},
     "output_type": "execute_result"
    }
   ],
   "source": [
    "math.sqrt(len(n_test_cat))"
   ]
  },
  {
   "cell_type": "code",
   "execution_count": 8,
   "metadata": {},
   "outputs": [
    {
     "data": {
      "text/plain": [
       "47.43416490252569"
      ]
     },
     "execution_count": 8,
     "metadata": {},
     "output_type": "execute_result"
    }
   ],
   "source": [
    "math.sqrt(len(i_test_cat))"
   ]
  },
  {
   "cell_type": "code",
   "execution_count": 9,
   "metadata": {},
   "outputs": [
    {
     "data": {
      "text/plain": [
       "array([1, 1, 0, ..., 1, 1, 0])"
      ]
     },
     "execution_count": 9,
     "metadata": {},
     "output_type": "execute_result"
    }
   ],
   "source": [
    "#Defining the model: Init K-NN\n",
    "classifier =KNeighborsClassifier(n_neighbors=27, p=2, metric = 'euclidean')\n",
    "#can also use square means or others instead of euclidean. \n",
    "#p = 2 for deciding between 2 states.\n",
    "#Fit model\n",
    "#classifier.fit(X_train, y_train)\n",
    "classifier.fit(X_train, g_train_enc)\n",
    "y_pred_g = classifier.predict(X_test)\n",
    "y_pred_g"
   ]
  },
  {
   "cell_type": "code",
   "execution_count": 10,
   "metadata": {},
   "outputs": [
    {
     "data": {
      "text/plain": [
       "array([16, 16, 16, ..., 16, 16, 16])"
      ]
     },
     "execution_count": 10,
     "metadata": {},
     "output_type": "execute_result"
    }
   ],
   "source": [
    "#Defining the model: Init K-NN\n",
    "classifier =KNeighborsClassifier(n_neighbors=27, p=2, metric = 'euclidean')\n",
    "#can also use square means or others instead of euclidean. \n",
    "#p = 2 for deciding between 2 states.\n",
    "#Fit model\n",
    "#classifier.fit(X_train, y_train)\n",
    "classifier.fit(X_train, n_train_enc)\n",
    "y_pred_n = classifier.predict(X_test)\n",
    "y_pred_n"
   ]
  },
  {
   "cell_type": "code",
   "execution_count": 11,
   "metadata": {},
   "outputs": [
    {
     "data": {
      "text/plain": [
       "array([110,  76,  75, ...,  43, 172,  19])"
      ]
     },
     "execution_count": 11,
     "metadata": {},
     "output_type": "execute_result"
    }
   ],
   "source": [
    "#Defining the model: Init K-NN\n",
    "classifier =KNeighborsClassifier(n_neighbors=27, p=2, metric = 'euclidean')\n",
    "#can also use square means or others instead of euclidean. \n",
    "#p = 2 for deciding between 2 states.\n",
    "#Fit model\n",
    "#classifier.fit(X_train, y_train)\n",
    "classifier.fit(X_train, i_train_enc)\n",
    "y_pred_i = classifier.predict(X_test)\n",
    "y_pred_i"
   ]
  },
  {
   "cell_type": "code",
   "execution_count": 12,
   "metadata": {},
   "outputs": [],
   "source": [
    "#Evaluate models\n",
    "#cm = confusion_matrix(y_test, y_pred)\n",
    "#print (cm)\n",
    "cm_g = confusion_matrix(g_test_enc, y_pred_g)\n",
    "cm_n = confusion_matrix(n_test_enc, y_pred_n)\n",
    "cm_i = confusion_matrix(i_test_enc, y_pred_i)"
   ]
  },
  {
   "cell_type": "code",
   "execution_count": 13,
   "metadata": {},
   "outputs": [
    {
     "name": "stdout",
     "output_type": "stream",
     "text": [
      "0.951434034416826\n"
     ]
    }
   ],
   "source": [
    "print(f1_score(g_test_enc, y_pred_g))  #cannot use this unless change to dummydata or 0s and 1s. Must be binary"
   ]
  },
  {
   "cell_type": "code",
   "execution_count": 14,
   "metadata": {},
   "outputs": [
    {
     "name": "stdout",
     "output_type": "stream",
     "text": [
      "0.9435555555555556\n"
     ]
    }
   ],
   "source": [
    "#What you tell the general public. This one is poor fit in model.\n",
    "#print(accuracy_score(y_test, y_pred))\n",
    "print(accuracy_score(g_test_enc, y_pred_g))"
   ]
  },
  {
   "cell_type": "code",
   "execution_count": 15,
   "metadata": {},
   "outputs": [
    {
     "name": "stdout",
     "output_type": "stream",
     "text": [
      "0.7217777777777777\n"
     ]
    }
   ],
   "source": [
    "print(accuracy_score(n_test_enc, y_pred_n))"
   ]
  },
  {
   "cell_type": "code",
   "execution_count": 16,
   "metadata": {},
   "outputs": [
    {
     "name": "stdout",
     "output_type": "stream",
     "text": [
      "0.49955555555555553\n"
     ]
    }
   ],
   "source": [
    "print(accuracy_score(i_test_enc, y_pred_i))"
   ]
  },
  {
   "cell_type": "code",
   "execution_count": 17,
   "metadata": {},
   "outputs": [
    {
     "name": "stdout",
     "output_type": "stream",
     "text": [
      "k: 2, Train/Test Score: 0.988/0.968\n",
      "k: 4, Train/Test Score: 0.983/0.968\n",
      "k: 6, Train/Test Score: 0.977/0.965\n",
      "k: 8, Train/Test Score: 0.970/0.965\n",
      "k: 10, Train/Test Score: 0.969/0.961\n",
      "k: 12, Train/Test Score: 0.964/0.959\n",
      "k: 14, Train/Test Score: 0.960/0.957\n",
      "k: 16, Train/Test Score: 0.957/0.955\n",
      "k: 18, Train/Test Score: 0.955/0.952\n",
      "k: 20, Train/Test Score: 0.954/0.951\n"
     ]
    },
    {
     "data": {
      "image/png": "[encoded data removed]",
      "text/plain": [
       "<Figure size 432x288 with 1 Axes>"
      ]
     },
     "metadata": {
      "needs_background": "light"
     },
     "output_type": "display_data"
    }
   ],
   "source": [
    "# Loop through different k values to see which has the highest accuracy\n",
    "# Note: We only use odd numbers because we don't want any ties\n",
    "train_scores = []\n",
    "test_scores = []\n",
    "for k in range(2, 21, 2):\n",
    "    knn = KNeighborsClassifier(n_neighbors=k)\n",
    "#    knn.fit(X_train, y_train)\n",
    "    knn.fit(X_train, g_train_enc)\n",
    "    train_score = knn.score(X_train, g_train_enc)\n",
    "    test_score = knn.score(X_test, g_test_enc)\n",
    "    train_scores.append(train_score)\n",
    "    test_scores.append(test_score)\n",
    "    print(f\"k: {k}, Train/Test Score: {train_score:.3f}/{test_score:.3f}\")\n",
    "    \n",
    "    \n",
    "plt.plot(range(2, 21, 2), train_scores, marker='o')\n",
    "plt.plot(range(2, 21, 2), test_scores, marker=\"x\")\n",
    "plt.xlabel(\"k neighbors\")\n",
    "plt.ylabel(\"Gender Testing accuracy Score\")\n",
    "plt.show()"
   ]
  },
  {
   "cell_type": "code",
   "execution_count": 18,
   "metadata": {},
   "outputs": [
    {
     "name": "stdout",
     "output_type": "stream",
     "text": [
      "k: 3, Train/Test Score: 0.928/0.835\n",
      "k: 6, Train/Test Score: 0.887/0.814\n",
      "k: 9, Train/Test Score: 0.853/0.789\n",
      "k: 12, Train/Test Score: 0.828/0.776\n",
      "k: 15, Train/Test Score: 0.808/0.756\n",
      "k: 18, Train/Test Score: 0.792/0.748\n",
      "k: 21, Train/Test Score: 0.774/0.740\n",
      "k: 24, Train/Test Score: 0.760/0.731\n",
      "k: 27, Train/Test Score: 0.751/0.722\n",
      "k: 30, Train/Test Score: 0.740/0.717\n"
     ]
    },
    {
     "data": {
      "image/png": "[encoded data removed]",
      "text/plain": [
       "<Figure size 432x288 with 1 Axes>"
      ]
     },
     "metadata": {
      "needs_background": "light"
     },
     "output_type": "display_data"
    }
   ],
   "source": [
    "# Loop through different k values to see which has the highest accuracy\n",
    "# Note: We only use odd numbers because we don't want any ties\n",
    "train_scores = []\n",
    "test_scores = []\n",
    "for k in range(3, 31, 3):\n",
    "    knn = KNeighborsClassifier(n_neighbors=k)\n",
    "#    knn.fit(X_train, y_train)\n",
    "    knn.fit(X_train, n_train_enc)\n",
    "    train_score = knn.score(X_train, n_train_enc)\n",
    "    test_score = knn.score(X_test, n_test_enc)\n",
    "    train_scores.append(train_score)\n",
    "    test_scores.append(test_score)\n",
    "    print(f\"k: {k}, Train/Test Score: {train_score:.3f}/{test_score:.3f}\")\n",
    "    \n",
    "    \n",
    "plt.plot(range(3, 31, 3), train_scores, marker='o')\n",
    "plt.plot(range(3, 31, 3), test_scores, marker=\"x\")\n",
    "plt.xlabel(\"k neighbors\")\n",
    "plt.ylabel(\"Nationality Testing accuracy Score\")\n",
    "plt.show()"
   ]
  },
  {
   "cell_type": "code",
   "execution_count": 19,
   "metadata": {},
   "outputs": [
    {
     "name": "stdout",
     "output_type": "stream",
     "text": [
      "k: 7, Train/Test Score: 0.764/0.625\n",
      "k: 14, Train/Test Score: 0.678/0.564\n",
      "k: 21, Train/Test Score: 0.615/0.521\n",
      "k: 28, Train/Test Score: 0.577/0.496\n",
      "k: 35, Train/Test Score: 0.545/0.467\n",
      "k: 42, Train/Test Score: 0.519/0.452\n",
      "k: 49, Train/Test Score: 0.499/0.433\n",
      "k: 56, Train/Test Score: 0.482/0.420\n",
      "k: 63, Train/Test Score: 0.463/0.412\n"
     ]
    },
    {
     "data": {
      "image/png": "[encoded data removed]",
      "text/plain": [
       "<Figure size 432x288 with 1 Axes>"
      ]
     },
     "metadata": {
      "needs_background": "light"
     },
     "output_type": "display_data"
    }
   ],
   "source": [
    "# Loop through different k values to see which has the highest accuracy\n",
    "# Note: We only use odd numbers because we don't want any ties\n",
    "train_scores = []\n",
    "test_scores = []\n",
    "for k in range(7, 70, 7):\n",
    "    knn = KNeighborsClassifier(n_neighbors=k)\n",
    "#    knn.fit(X_train, y_train)\n",
    "    knn.fit(X_train, i_train_enc)\n",
    "    train_score = knn.score(X_train, i_train_enc)\n",
    "    test_score = knn.score(X_test, i_test_enc)\n",
    "    train_scores.append(train_score)\n",
    "    test_scores.append(test_score)\n",
    "    print(f\"k: {k}, Train/Test Score: {train_score:.3f}/{test_score:.3f}\")\n",
    "    \n",
    "    \n",
    "plt.plot(range(7, 70, 7), train_scores, marker='o')\n",
    "plt.plot(range(7, 70, 7), test_scores, marker=\"x\")\n",
    "plt.xlabel(\"k neighbors\")\n",
    "plt.ylabel(\"Identity Testing accuracy Score\")\n",
    "plt.show()"
   ]
  },
  {
   "cell_type": "code",
   "execution_count": 20,
   "metadata": {},
   "outputs": [
    {
     "name": "stdout",
     "output_type": "stream",
     "text": [
      "k=2 Test Acc: 0.944\n"
     ]
    }
   ],
   "source": [
    "# Note that k: 3 seems to be the best choice for this dataset, but 27 was chosen. Accuracy matched test.\n",
    "knn = KNeighborsClassifier(n_neighbors=27)\n",
    "#knn.fit(X_train, y_train)\n",
    "#print('k=27 Test Acc: %.3f' % knn.score(X_test, y_test))\n",
    "knn.fit(X_train, g_train_enc)\n",
    "print('k=2 Test Acc: %.3f' % knn.score(X_test, g_test_enc))"
   ]
  },
  {
   "cell_type": "code",
   "execution_count": 21,
   "metadata": {},
   "outputs": [
    {
     "name": "stdout",
     "output_type": "stream",
     "text": [
      "k=3 Test Acc: 0.722\n"
     ]
    }
   ],
   "source": [
    "knn.fit(X_train, n_train_enc)\n",
    "print('k=3 Test Acc: %.3f' % knn.score(X_test, n_test_enc))"
   ]
  },
  {
   "cell_type": "code",
   "execution_count": 22,
   "metadata": {},
   "outputs": [
    {
     "name": "stdout",
     "output_type": "stream",
     "text": [
      "k=7 Test Acc: 0.500\n"
     ]
    }
   ],
   "source": [
    "knn.fit(X_train, i_train_enc)\n",
    "print('k=7 Test Acc: %.3f' % knn.score(X_test, i_test_enc))"
   ]
  },
  {
   "cell_type": "code",
   "execution_count": 23,
   "metadata": {},
   "outputs": [
    {
     "name": "stdout",
     "output_type": "stream",
     "text": [
      "Gender R2: -47218.66942061959\n",
      "Gender Mean squared Error: 11544.78711111111\n"
     ]
    }
   ],
   "source": [
    "#calculate MSE gender\n",
    "predicted = knn.predict(X_test)\n",
    "#mse = mean_squared_error(y_test, predicted)\n",
    "mse_g = mean_squared_error(g_test_enc, predicted)\n",
    "#r2 = r2_score(y_test, predicted)\n",
    "g_r2 = r2_score(g_test_enc, predicted)\n",
    "####print(f\"Gender Mean squared Error (MSE) : {mse}\")\n",
    "####print(f\"Gender R-squared (R2): {r2}\")\n",
    "print(f\"Gender R2: {g_r2}\")\n",
    "print(f\"Gender Mean squared Error: {mse_g}\")"
   ]
  },
  {
   "cell_type": "code",
   "execution_count": 24,
   "metadata": {},
   "outputs": [
    {
     "name": "stdout",
     "output_type": "stream",
     "text": [
      "Nationality R2: -405.1371947886895\n",
      "Nationality Mean squared Error: 9341.328444444445\n"
     ]
    }
   ],
   "source": [
    "#calculate MSE nationality\n",
    "predicted = knn.predict(X_test)\n",
    "#mse = mean_squared_error(y_test, predicted)\n",
    "mse_n = mean_squared_error(n_test_enc, predicted)\n",
    "#r2 = r2_score(y_test, predicted)\n",
    "n_r2 = r2_score(n_test_enc, predicted)\n",
    "####print(f\"Gender Mean squared Error (MSE) : {mse}\")\n",
    "####print(f\"Gender R-squared (R2): {r2}\")\n",
    "print(f\"Nationality R2: {n_r2}\")\n",
    "print(f\"Nationality Mean squared Error: {mse_n}\")"
   ]
  },
  {
   "cell_type": "code",
   "execution_count": 25,
   "metadata": {},
   "outputs": [
    {
     "name": "stdout",
     "output_type": "stream",
     "text": [
      "identity R2: -0.0061501356490898385\n",
      "identity Mean squared Error: 3352.407111111111\n"
     ]
    }
   ],
   "source": [
    "#calculate MSE identity\n",
    "predicted = knn.predict(X_test)\n",
    "#mse = mean_squared_error(y_test, predicted)\n",
    "mse_i = mean_squared_error(i_test_enc, predicted)\n",
    "#r2 = r2_score(y_test, predicted)\n",
    "i_r2 = r2_score(i_test_enc, predicted)\n",
    "####print(f\"Gender Mean squared Error (MSE) : {mse}\")\n",
    "####print(f\"Gender R-squared (R2): {r2}\")\n",
    "print(f\"identity R2: {i_r2}\")\n",
    "print(f\"identity Mean squared Error: {mse_i}\")"
   ]
  },
  {
   "cell_type": "code",
   "execution_count": null,
   "metadata": {},
   "outputs": [],
   "source": []
  }
 ],
 "metadata": {
  "kernelspec": {
   "display_name": "ut-keras",
   "language": "python",
   "name": "ut-keras"
  },
  "language_info": {
   "codemirror_mode": {
    "name": "ipython",
    "version": 3
   },
   "file_extension": ".py",
   "mimetype": "text/x-python",
   "name": "python",
   "nbconvert_exporter": "python",
   "pygments_lexer": "ipython3",
   "version": "3.6.8"
  },
  "varInspector": {
   "cols": {
    "lenName": 16,
    "lenType": 16,
    "lenVar": 40
   },
   "kernels_config": {
    "python": {
     "delete_cmd_postfix": "",
     "delete_cmd_prefix": "del ",
     "library": "var_list.py",
     "varRefreshCmd": "print(var_dic_list())"
    },
    "r": {
     "delete_cmd_postfix": ") ",
     "delete_cmd_prefix": "rm(",
     "library": "var_list.r",
     "varRefreshCmd": "cat(var_dic_list()) "
    }
   },
   "types_to_exclude": [
    "module",
    "function",
    "builtin_function_or_method",
    "instance",
    "_Feature"
   ],
   "window_display": false
  }
 },
 "nbformat": 4,
 "nbformat_minor": 2
}
