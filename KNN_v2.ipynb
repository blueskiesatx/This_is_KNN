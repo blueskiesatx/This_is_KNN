{
 "cells": [
  {
   "cell_type": "code",
   "execution_count": 1,
   "metadata": {},
   "outputs": [
    {
     "name": "stderr",
     "output_type": "stream",
     "text": [
      "Using TensorFlow backend.\n"
     ]
    }
   ],
   "source": [
    "#Data pre-processed version\n",
    "#Dependencies\n",
    "import os\n",
    "import csv\n",
    "import pandas as pd\n",
    "import warnings\n",
    "warnings.filterwarnings('ignore')\n",
    "from voicedata import voicedata\n",
    "\n",
    "# Data Manupulation\n",
    "import numpy as np\n",
    "import pandas as pd\n",
    "import math\n",
    "\n",
    "# Plotting graphs\n",
    "import matplotlib.pyplot as plt\n",
    "\n",
    "# Required Sklearn libraries Machine learning libraries\n",
    "from sklearn.neighbors import KNeighborsClassifier\n",
    "\n",
    "from sklearn.model_selection import train_test_split\n",
    "\n",
    "#testing model\n",
    "from sklearn.metrics import confusion_matrix, f1_score, accuracy_score, mean_squared_error, r2_score\n",
    "\n",
    "# Data fetching\n",
    "#from pandas_datareader import data as pdr\n",
    "\n",
    "#using python 3.6"
   ]
  },
  {
   "cell_type": "markdown",
   "metadata": {},
   "source": [
    "KNN stores the entire training dataset which it uses as its representation. Where can use KNN? The data should be smaller and noise-free.\n",
    "KNN does not learn any model. It is a lazy learner because it does not learn a discriminitive function in the dataset.\n",
    "KNN makes predictions just-in-time by calculating the similarity between an input sample and each training instance.\n",
    "There are many distance measures to choose from to match the structure of your input data.\n",
    "That it is a good idea to rescale your data, such as using normalization, when using KNN."
   ]
  },
  {
   "cell_type": "code",
   "execution_count": 2,
   "metadata": {},
   "outputs": [
    {
     "name": "stdout",
     "output_type": "stream",
     "text": [
      "(1350, 4)\n",
      "(450, 4)\n"
     ]
    }
   ],
   "source": [
    "#Getting data\n",
    "#df = pd.read_csv(\"Resources\\\\voice.csv\")\n",
    "(X_train, X_test,\n",
    "genc, g_train, g_train_enc, g_train_cat, g_test, g_test_enc, g_test_cat,\n",
    "nenc, n_train, n_train_enc, n_train_cat, n_test, n_test_enc, n_test_cat,\n",
    "ienc, i_train, i_train_enc, i_train_cat, i_test, i_test_enc, i_test_cat) = voicedata()\n",
    "\n",
    "#df.head()"
   ]
  },
  {
   "cell_type": "code",
   "execution_count": 3,
   "metadata": {},
   "outputs": [
    {
     "name": "stdout",
     "output_type": "stream",
     "text": [
      "(1350, 40)\n",
      "(450, 40)\n",
      "(1350, 2)\n",
      "(450, 2)\n",
      "(1350, 9)\n",
      "(450, 9)\n",
      "(1350, 40)\n",
      "(450, 40)\n"
     ]
    }
   ],
   "source": [
    "#Check the length of the dataset. This is length of y:\n",
    "#len(df)\n",
    "print(X_train.shape) \n",
    "print(X_test.shape) \n",
    "print(g_train_cat.shape) \n",
    "print(g_test_cat.shape) \n",
    "print(n_train_cat.shape) \n",
    "print(n_test_cat.shape) \n",
    "print(i_train_cat.shape) \n",
    "print(i_test_cat.shape) "
   ]
  },
  {
   "cell_type": "markdown",
   "metadata": {},
   "source": [
    "Data preprocessing"
   ]
  },
  {
   "cell_type": "code",
   "execution_count": 4,
   "metadata": {},
   "outputs": [],
   "source": [
    "# Assign X (data) and y (target)\n",
    "#X = df.drop(\"label\", axis=1)\n",
    "#y = df[\"label\"]\n",
    "#print(X.shape, y.shape)\n",
    "\n",
    "\n",
    "#Dummy encoding\n",
    "#data = X.copy()\n",
    "#data_binary_encoded = pd.get_dummies(data, columns=[\"label\"])\n",
    "#data_binary_encoded.head()\n",
    "#Dummy Encoding\n",
    "#data = X.copy()\n",
    "#data_binary_encoded = pd.get_dummies(data, columns=[\"gender\"], drop_first = True)\n",
    "#data_binary_encoded.head()"
   ]
  },
  {
   "cell_type": "code",
   "execution_count": 5,
   "metadata": {},
   "outputs": [],
   "source": [
    "#target = df[\"Outcome\"]\n",
    "#target_names = [\"negative\", \"positive\"]"
   ]
  },
  {
   "cell_type": "code",
   "execution_count": 6,
   "metadata": {},
   "outputs": [],
   "source": [
    "#from sklearn.model_selection import train_test_split\n",
    "#X_train, X_test, y_train, y_test = train_test_split(X, y, random_state=1, stratify=y)\n",
    "#len(X_train)\n",
    "#data = df.drop(\"Outcome\", axis=1)\n",
    "#feature_names = data.columns\n",
    "#data.head()"
   ]
  },
  {
   "cell_type": "code",
   "execution_count": 7,
   "metadata": {},
   "outputs": [],
   "source": [
    "#from sklearn.model_selection import train_test_split\n",
    "#X_train, X_test, y_train, y_test = train_test_split(data, target, random_state=42)\n",
    "\n",
    "#For slicing data to look at all rows, 0 to 7 columns, test 20%\n",
    "#x = dataset.iloc[:, 0:8]\n",
    "##just column 8\n",
    "#y = dataset.iloc[:, 8]\n",
    "\n",
    "#X_train, X_test, y_train, y_test = train_test_split(X, y, random_state=0, test_size=0.2)"
   ]
  },
  {
   "cell_type": "code",
   "execution_count": 8,
   "metadata": {},
   "outputs": [],
   "source": [
    "#plt.hist(df['meanfreq'], bins = 2)\n",
    "#scalinng data\n",
    "#sc_x = StandardScalar()\n",
    "#X_train = sc_X.fit_transorm(X_train)\n",
    "#X_test = sc_X.transform(X_test)"
   ]
  },
  {
   "cell_type": "code",
   "execution_count": 9,
   "metadata": {},
   "outputs": [],
   "source": [
    "#plt.hist(df['label'], bins = 2)"
   ]
  },
  {
   "cell_type": "markdown",
   "metadata": {},
   "source": [
    "How do we choose the factor k? The KNN algorithm is based on feature similarity. Choosing the right k is a process called parameter tuning. It is important to find the better k for the best accuracy. An odd value for k is selected to avoid confusion between two classes of data. Some people use the square root of n where n is the number of data points."
   ]
  },
  {
   "cell_type": "code",
   "execution_count": 4,
   "metadata": {},
   "outputs": [
    {
     "data": {
      "text/plain": [
       "36.742346141747674"
      ]
     },
     "execution_count": 4,
     "metadata": {},
     "output_type": "execute_result"
    }
   ],
   "source": [
    "math.sqrt(len(X_train))"
   ]
  },
  {
   "cell_type": "code",
   "execution_count": 5,
   "metadata": {},
   "outputs": [
    {
     "data": {
      "text/plain": [
       "21.213203435596427"
      ]
     },
     "execution_count": 5,
     "metadata": {},
     "output_type": "execute_result"
    }
   ],
   "source": [
    "math.sqrt(len(g_test_cat))"
   ]
  },
  {
   "cell_type": "code",
   "execution_count": 6,
   "metadata": {},
   "outputs": [
    {
     "data": {
      "text/plain": [
       "21.213203435596427"
      ]
     },
     "execution_count": 6,
     "metadata": {},
     "output_type": "execute_result"
    }
   ],
   "source": [
    "math.sqrt(len(n_test_cat))"
   ]
  },
  {
   "cell_type": "code",
   "execution_count": 7,
   "metadata": {},
   "outputs": [
    {
     "data": {
      "text/plain": [
       "21.213203435596427"
      ]
     },
     "execution_count": 7,
     "metadata": {},
     "output_type": "execute_result"
    }
   ],
   "source": [
    "math.sqrt(len(i_test_cat))"
   ]
  },
  {
   "cell_type": "code",
   "execution_count": 8,
   "metadata": {},
   "outputs": [
    {
     "data": {
      "text/plain": [
       "array([1, 0, 1, 1, 0, 1, 0, 0, 1, 1, 1, 1, 1, 0, 1, 1, 1, 1, 0, 0, 1, 1,\n",
       "       1, 1, 1, 0, 1, 1, 1, 1, 1, 1, 0, 1, 1, 1, 0, 1, 1, 0, 0, 1, 1, 0,\n",
       "       1, 0, 1, 1, 1, 0, 1, 0, 1, 1, 0, 1, 0, 0, 0, 1, 0, 1, 1, 1, 1, 1,\n",
       "       1, 1, 1, 0, 1, 1, 0, 1, 1, 1, 1, 1, 1, 1, 1, 1, 1, 1, 1, 1, 0, 1,\n",
       "       0, 1, 1, 1, 1, 0, 1, 1, 1, 1, 1, 1, 0, 0, 0, 1, 1, 1, 1, 0, 0, 1,\n",
       "       1, 1, 1, 0, 1, 1, 1, 0, 1, 0, 1, 0, 1, 0, 1, 1, 1, 0, 0, 0, 0, 0,\n",
       "       1, 1, 1, 1, 0, 1, 1, 1, 1, 1, 1, 1, 0, 1, 1, 1, 1, 1, 0, 1, 0, 1,\n",
       "       1, 1, 1, 1, 1, 0, 1, 0, 0, 1, 1, 0, 1, 1, 0, 1, 1, 1, 0, 1, 0, 1,\n",
       "       1, 1, 1, 0, 1, 0, 0, 1, 0, 0, 1, 0, 1, 0, 1, 0, 0, 1, 0, 0, 0, 0,\n",
       "       0, 0, 1, 1, 1, 1, 0, 1, 1, 1, 1, 1, 1, 0, 1, 1, 1, 0, 0, 1, 0, 0,\n",
       "       1, 1, 1, 1, 0, 1, 0, 1, 1, 1, 0, 1, 0, 1, 0, 1, 1, 1, 0, 1, 0, 0,\n",
       "       0, 1, 1, 1, 1, 0, 1, 1, 1, 1, 1, 1, 1, 1, 1, 1, 1, 0, 1, 1, 1, 1,\n",
       "       0, 1, 1, 1, 1, 1, 0, 0, 1, 0, 0, 1, 1, 1, 1, 0, 1, 1, 1, 0, 1, 1,\n",
       "       0, 1, 1, 0, 1, 1, 0, 0, 1, 1, 0, 0, 0, 1, 1, 1, 1, 1, 1, 0, 1, 1,\n",
       "       1, 1, 1, 1, 1, 0, 1, 1, 1, 1, 0, 1, 1, 0, 1, 1, 0, 0, 1, 1, 0, 1,\n",
       "       1, 1, 1, 1, 1, 1, 1, 0, 0, 1, 1, 0, 1, 1, 1, 1, 0, 0, 0, 1, 1, 0,\n",
       "       1, 1, 0, 0, 1, 1, 1, 0, 0, 1, 1, 1, 1, 1, 1, 0, 0, 0, 0, 1, 0, 0,\n",
       "       1, 0, 1, 1, 0, 1, 1, 0, 0, 1, 0, 1, 1, 1, 0, 1, 0, 0, 0, 0, 1, 0,\n",
       "       0, 1, 1, 1, 1, 1, 0, 0, 0, 1, 0, 1, 1, 0, 1, 1, 1, 1, 1, 1, 1, 1,\n",
       "       1, 1, 0, 0, 1, 1, 0, 1, 1, 1, 1, 0, 1, 0, 1, 0, 1, 1, 1, 0, 1, 1,\n",
       "       0, 1, 0, 1, 1, 1, 0, 1, 1, 0])"
      ]
     },
     "execution_count": 8,
     "metadata": {},
     "output_type": "execute_result"
    }
   ],
   "source": [
    "#Defining the model: Init K-NN\n",
    "classifier =KNeighborsClassifier(n_neighbors=27, p=2, metric = 'euclidean')\n",
    "#can also use square means or others instead of euclidean. \n",
    "#p = 2 for deciding between 2 states.\n",
    "#Fit model\n",
    "#classifier.fit(X_train, y_train)\n",
    "classifier.fit(X_train, g_train_enc)\n",
    "y_pred_g = classifier.predict(X_test)\n",
    "y_pred_g"
   ]
  },
  {
   "cell_type": "code",
   "execution_count": 9,
   "metadata": {},
   "outputs": [
    {
     "data": {
      "text/plain": [
       "array([8, 8, 6, 8, 8, 8, 3, 8, 8, 8, 8, 7, 8, 3, 8, 8, 8, 8, 8, 7, 8, 8,\n",
       "       8, 8, 8, 5, 8, 8, 8, 8, 8, 8, 3, 8, 8, 8, 7, 8, 8, 5, 8, 8, 8, 8,\n",
       "       8, 8, 8, 8, 8, 8, 8, 8, 8, 8, 8, 8, 8, 8, 8, 8, 1, 8, 8, 8, 8, 8,\n",
       "       8, 8, 8, 8, 8, 8, 3, 7, 8, 8, 8, 8, 8, 8, 8, 8, 8, 8, 8, 8, 8, 8,\n",
       "       8, 8, 8, 8, 8, 8, 8, 8, 8, 8, 8, 8, 8, 8, 8, 8, 8, 8, 8, 8, 8, 3,\n",
       "       8, 8, 4, 8, 8, 8, 6, 8, 8, 3, 2, 8, 8, 1, 8, 8, 8, 3, 8, 8, 8, 8,\n",
       "       8, 8, 8, 8, 8, 8, 8, 0, 8, 8, 8, 3, 8, 8, 8, 6, 3, 8, 8, 8, 8, 8,\n",
       "       8, 8, 8, 8, 8, 8, 8, 7, 8, 2, 2, 3, 8, 8, 8, 2, 8, 2, 8, 8, 8, 8,\n",
       "       8, 8, 8, 3, 8, 5, 8, 8, 8, 8, 8, 8, 8, 3, 8, 8, 8, 8, 8, 8, 7, 8,\n",
       "       3, 3, 8, 8, 7, 8, 8, 8, 8, 8, 8, 8, 3, 8, 8, 8, 8, 8, 8, 8, 8, 8,\n",
       "       8, 8, 6, 8, 8, 8, 7, 8, 8, 8, 5, 8, 8, 4, 8, 8, 8, 8, 7, 8, 8, 1,\n",
       "       8, 8, 8, 8, 8, 8, 8, 8, 8, 8, 8, 8, 8, 8, 8, 8, 3, 3, 8, 8, 8, 8,\n",
       "       8, 8, 8, 8, 8, 8, 8, 8, 8, 8, 8, 8, 8, 8, 8, 8, 8, 8, 8, 8, 8, 8,\n",
       "       5, 8, 8, 8, 8, 8, 8, 7, 8, 8, 3, 8, 8, 8, 8, 8, 8, 8, 6, 8, 7, 8,\n",
       "       8, 8, 8, 8, 8, 8, 8, 8, 8, 8, 8, 8, 8, 8, 8, 8, 8, 8, 7, 8, 7, 8,\n",
       "       0, 8, 8, 8, 8, 7, 8, 7, 8, 8, 8, 3, 8, 3, 8, 7, 7, 8, 8, 8, 8, 7,\n",
       "       8, 8, 8, 5, 8, 8, 8, 5, 8, 7, 8, 7, 6, 8, 8, 8, 8, 8, 8, 8, 8, 8,\n",
       "       8, 7, 8, 8, 5, 8, 8, 8, 8, 8, 8, 8, 7, 8, 8, 8, 7, 7, 8, 1, 4, 8,\n",
       "       8, 8, 6, 8, 8, 8, 8, 3, 8, 8, 8, 8, 8, 1, 8, 8, 8, 7, 8, 8, 3, 8,\n",
       "       8, 4, 8, 1, 6, 8, 8, 8, 8, 8, 6, 7, 8, 8, 8, 8, 8, 8, 8, 8, 8, 8,\n",
       "       0, 8, 8, 8, 8, 8, 8, 8, 8, 8])"
      ]
     },
     "execution_count": 9,
     "metadata": {},
     "output_type": "execute_result"
    }
   ],
   "source": [
    "#Defining the model: Init K-NN\n",
    "classifier =KNeighborsClassifier(n_neighbors=27, p=2, metric = 'euclidean')\n",
    "#can also use square means or others instead of euclidean. \n",
    "#p = 2 for deciding between 2 states.\n",
    "#Fit model\n",
    "#classifier.fit(X_train, y_train)\n",
    "classifier.fit(X_train, n_train_enc)\n",
    "y_pred_n = classifier.predict(X_test)\n",
    "y_pred_n"
   ]
  },
  {
   "cell_type": "code",
   "execution_count": 10,
   "metadata": {},
   "outputs": [
    {
     "data": {
      "text/plain": [
       "array([24, 37,  7, 34, 17, 23, 10, 33, 25, 24,  8,  6, 19, 10,  1, 23,  1,\n",
       "       24, 33, 21,  7, 20, 23,  9, 37, 36, 26,  8, 23, 24, 25, 22, 10,  8,\n",
       "        1, 32, 21, 18, 28, 36, 10, 25, 39, 19, 14, 36, 39, 32,  7, 37,  9,\n",
       "       18, 25, 22, 15, 24, 37, 17, 21, 25, 19, 32, 28,  8,  2, 31, 28, 31,\n",
       "       23, 10, 14, 25, 10,  6,  9,  8,  8, 32, 22,  8, 20, 34,  2, 32, 14,\n",
       "        4, 33,  9,  0, 30, 25,  1, 15, 17,  2, 39, 32,  3, 35,  9, 33, 33,\n",
       "       31, 27,  6, 37, 25, 29, 29, 23,  8, 14, 35, 33,  9, 25,  7, 11, 24,\n",
       "       10, 22, 17, 28, 19,  8, 14,  8, 10, 33, 33, 19, 37, 31, 31, 28,  8,\n",
       "       33,  2, 32, 34,  7,  2, 32, 23, 12,  2,  2,  7, 23, 24, 11,  9, 11,\n",
       "       23, 31, 22, 20,  2, 28, 11, 14, 21, 17, 22, 22, 38, 14,  4, 16, 22,\n",
       "       39, 22, 33,  1, 37,  9,  5, 28,  4, 38, 24, 36, 17,  1, 11, 38,  2,\n",
       "        0, 27, 38, 13, 16, 14, 25, 33, 33, 21, 21, 38, 38, 30, 23,  1,  8,\n",
       "       10, 24, 23,  8,  1, 31, 23, 10, 23, 25, 32, 33, 33,  6, 17, 37, 27,\n",
       "       32,  7, 26, 18, 30, 21,  3, 31, 28, 36,  3, 18, 35, 33, 32, 26, 22,\n",
       "       12, 39, 15, 19, 10, 31,  5, 20,  7, 10,  0,  6,  6, 25,  8, 30, 34,\n",
       "       32,  4, 32, 23, 38,  7, 24, 13,  1, 10, 18, 32,  6, 23, 31, 11, 10,\n",
       "       28, 18, 16,  8, 26,  1,  8, 33, 32,  4,  6, 12,  9, 27, 36, 14,  7,\n",
       "       11,  4, 13, 33, 21, 25,  7, 38, 15, 37,  0, 20,  9,  3,  5,  7, 21,\n",
       "        6,  7, 26, 30,  9, 37,  8, 21, 33, 25,  0,  7, 15, 37, 14, 37,  4,\n",
       "       27, 17, 16, 22, 27, 21,  8, 34, 20,  4, 14,  3,  1, 11, 21, 18, 25,\n",
       "       14, 38, 24,  7, 39,  3, 12, 15, 29,  6,  5, 21, 14, 25, 33, 36, 36,\n",
       "       34,  1, 36, 29,  1, 25,  6,  7, 39, 28, 15, 10, 37, 36, 27, 33, 16,\n",
       "       25, 12,  2,  3, 36, 31, 24, 11, 19, 39,  0, 39,  6,  8, 18,  4, 21,\n",
       "       12, 37, 19, 35, 33, 29, 39,  7, 32,  9,  4, 19, 12, 17,  6, 18,  7,\n",
       "        2, 19, 33,  8, 25,  6, 22, 32, 23, 22, 26, 35, 33, 19,  7, 32,  0,\n",
       "       39, 25, 14,  7, 21, 19, 33, 14, 16,  7, 25,  7, 17, 27,  9, 18,  1,\n",
       "       11, 28,  6,  9, 16, 27, 37, 33])"
      ]
     },
     "execution_count": 10,
     "metadata": {},
     "output_type": "execute_result"
    }
   ],
   "source": [
    "#Defining the model: Init K-NN\n",
    "classifier =KNeighborsClassifier(n_neighbors=27, p=2, metric = 'euclidean')\n",
    "#can also use square means or others instead of euclidean. \n",
    "#p = 2 for deciding between 2 states.\n",
    "#Fit model\n",
    "#classifier.fit(X_train, y_train)\n",
    "classifier.fit(X_train, i_train_enc)\n",
    "y_pred_i = classifier.predict(X_test)\n",
    "y_pred_i"
   ]
  },
  {
   "cell_type": "code",
   "execution_count": 11,
   "metadata": {},
   "outputs": [],
   "source": [
    "#Evaluate models\n",
    "#cm = confusion_matrix(y_test, y_pred)\n",
    "#print (cm)\n",
    "cm_g = confusion_matrix(g_test_enc, y_pred_g)\n",
    "cm_n = confusion_matrix(n_test_enc, y_pred_n)\n",
    "cm_i = confusion_matrix(i_test_enc, y_pred_i)"
   ]
  },
  {
   "cell_type": "code",
   "execution_count": 12,
   "metadata": {},
   "outputs": [
    {
     "name": "stdout",
     "output_type": "stream",
     "text": [
      "0.9568221070811743\n"
     ]
    }
   ],
   "source": [
    "print(f1_score(g_test_enc, y_pred_g))  #cannot use this unless change to dummydata or 0s and 1s. Must be binary"
   ]
  },
  {
   "cell_type": "code",
   "execution_count": 13,
   "metadata": {},
   "outputs": [
    {
     "name": "stdout",
     "output_type": "stream",
     "text": [
      "0.9444444444444444\n"
     ]
    }
   ],
   "source": [
    "#What you tell the general public. This one is poor fit in model.\n",
    "#print(accuracy_score(y_test, y_pred))\n",
    "print(accuracy_score(g_test_enc, y_pred_g))"
   ]
  },
  {
   "cell_type": "code",
   "execution_count": 14,
   "metadata": {},
   "outputs": [
    {
     "name": "stdout",
     "output_type": "stream",
     "text": [
      "0.74\n"
     ]
    }
   ],
   "source": [
    "print(accuracy_score(n_test_enc, y_pred_n))"
   ]
  },
  {
   "cell_type": "code",
   "execution_count": 15,
   "metadata": {},
   "outputs": [
    {
     "name": "stdout",
     "output_type": "stream",
     "text": [
      "0.6044444444444445\n"
     ]
    }
   ],
   "source": [
    "print(accuracy_score(i_test_enc, y_pred_i))"
   ]
  },
  {
   "cell_type": "code",
   "execution_count": 16,
   "metadata": {},
   "outputs": [
    {
     "name": "stdout",
     "output_type": "stream",
     "text": [
      "k: 2, Train/Test Score: 0.992/0.973\n",
      "k: 4, Train/Test Score: 0.988/0.976\n",
      "k: 6, Train/Test Score: 0.986/0.980\n",
      "k: 8, Train/Test Score: 0.982/0.971\n",
      "k: 10, Train/Test Score: 0.979/0.967\n",
      "k: 12, Train/Test Score: 0.973/0.964\n",
      "k: 14, Train/Test Score: 0.970/0.967\n",
      "k: 16, Train/Test Score: 0.970/0.967\n",
      "k: 18, Train/Test Score: 0.967/0.964\n",
      "k: 20, Train/Test Score: 0.963/0.960\n"
     ]
    },
    {
     "data": {
      "image/png": "[encoded data removed]",
      "text/plain": [
       "<Figure size 432x288 with 1 Axes>"
      ]
     },
     "metadata": {
      "needs_background": "light"
     },
     "output_type": "display_data"
    }
   ],
   "source": [
    "# Loop through different k values to see which has the highest accuracy\n",
    "# Note: We only use odd numbers because we don't want any ties\n",
    "train_scores = []\n",
    "test_scores = []\n",
    "for k in range(2, 21, 2):\n",
    "    knn = KNeighborsClassifier(n_neighbors=k)\n",
    "#    knn.fit(X_train, y_train)\n",
    "    knn.fit(X_train, g_train_enc)\n",
    "    train_score = knn.score(X_train, g_train_enc)\n",
    "    test_score = knn.score(X_test, g_test_enc)\n",
    "    train_scores.append(train_score)\n",
    "    test_scores.append(test_score)\n",
    "    print(f\"k: {k}, Train/Test Score: {train_score:.3f}/{test_score:.3f}\")\n",
    "    \n",
    "    \n",
    "plt.plot(range(2, 21, 2), train_scores, marker='o')\n",
    "plt.plot(range(2, 21, 2), test_scores, marker=\"x\")\n",
    "plt.xlabel(\"k neighbors\")\n",
    "plt.ylabel(\"Gender Testing accuracy Score\")\n",
    "plt.show()"
   ]
  },
  {
   "cell_type": "code",
   "execution_count": 18,
   "metadata": {},
   "outputs": [
    {
     "name": "stdout",
     "output_type": "stream",
     "text": [
      "k: 3, Train/Test Score: 0.956/0.884\n",
      "k: 6, Train/Test Score: 0.919/0.887\n",
      "k: 9, Train/Test Score: 0.893/0.873\n",
      "k: 12, Train/Test Score: 0.867/0.851\n",
      "k: 15, Train/Test Score: 0.844/0.818\n",
      "k: 18, Train/Test Score: 0.818/0.802\n",
      "k: 21, Train/Test Score: 0.813/0.773\n",
      "k: 24, Train/Test Score: 0.803/0.760\n",
      "k: 27, Train/Test Score: 0.789/0.740\n",
      "k: 30, Train/Test Score: 0.780/0.742\n"
     ]
    },
    {
     "data": {
      "image/png": "[encoded data removed]",
      "text/plain": [
       "<Figure size 432x288 with 1 Axes>"
      ]
     },
     "metadata": {
      "needs_background": "light"
     },
     "output_type": "display_data"
    }
   ],
   "source": [
    "# Loop through different k values to see which has the highest accuracy\n",
    "# Note: We only use odd numbers because we don't want any ties\n",
    "train_scores = []\n",
    "test_scores = []\n",
    "for k in range(3, 31, 3):\n",
    "    knn = KNeighborsClassifier(n_neighbors=k)\n",
    "#    knn.fit(X_train, y_train)\n",
    "    knn.fit(X_train, n_train_enc)\n",
    "    train_score = knn.score(X_train, n_train_enc)\n",
    "    test_score = knn.score(X_test, n_test_enc)\n",
    "    train_scores.append(train_score)\n",
    "    test_scores.append(test_score)\n",
    "    print(f\"k: {k}, Train/Test Score: {train_score:.3f}/{test_score:.3f}\")\n",
    "    \n",
    "    \n",
    "plt.plot(range(3, 31, 3), train_scores, marker='o')\n",
    "plt.plot(range(3, 31, 3), test_scores, marker=\"x\")\n",
    "plt.xlabel(\"k neighbors\")\n",
    "plt.ylabel(\"Nationality Testing accuracy Score\")\n",
    "plt.show()"
   ]
  },
  {
   "cell_type": "code",
   "execution_count": 19,
   "metadata": {},
   "outputs": [
    {
     "name": "stdout",
     "output_type": "stream",
     "text": [
      "k: 7, Train/Test Score: 0.861/0.782\n",
      "k: 14, Train/Test Score: 0.779/0.693\n",
      "k: 21, Train/Test Score: 0.710/0.647\n",
      "k: 28, Train/Test Score: 0.672/0.596\n",
      "k: 35, Train/Test Score: 0.640/0.584\n",
      "k: 42, Train/Test Score: 0.606/0.562\n",
      "k: 49, Train/Test Score: 0.587/0.531\n",
      "k: 56, Train/Test Score: 0.568/0.513\n",
      "k: 63, Train/Test Score: 0.562/0.498\n"
     ]
    },
    {
     "data": {
      "image/png": "[encoded data removed]",
      "text/plain": [
       "<Figure size 432x288 with 1 Axes>"
      ]
     },
     "metadata": {
      "needs_background": "light"
     },
     "output_type": "display_data"
    }
   ],
   "source": [
    "# Loop through different k values to see which has the highest accuracy\n",
    "# Note: We only use odd numbers because we don't want any ties\n",
    "train_scores = []\n",
    "test_scores = []\n",
    "for k in range(7, 70, 7):\n",
    "    knn = KNeighborsClassifier(n_neighbors=k)\n",
    "#    knn.fit(X_train, y_train)\n",
    "    knn.fit(X_train, i_train_enc)\n",
    "    train_score = knn.score(X_train, i_train_enc)\n",
    "    test_score = knn.score(X_test, i_test_enc)\n",
    "    train_scores.append(train_score)\n",
    "    test_scores.append(test_score)\n",
    "    print(f\"k: {k}, Train/Test Score: {train_score:.3f}/{test_score:.3f}\")\n",
    "    \n",
    "    \n",
    "plt.plot(range(7, 70, 7), train_scores, marker='o')\n",
    "plt.plot(range(7, 70, 7), test_scores, marker=\"x\")\n",
    "plt.xlabel(\"k neighbors\")\n",
    "plt.ylabel(\"Identity Testing accuracy Score\")\n",
    "plt.show()"
   ]
  },
  {
   "cell_type": "code",
   "execution_count": 24,
   "metadata": {},
   "outputs": [
    {
     "name": "stdout",
     "output_type": "stream",
     "text": [
      "k=2 Test Acc: 0.944\n"
     ]
    }
   ],
   "source": [
    "# Note that k: 3 seems to be the best choice for this dataset, but 27 was chosen. Accuracy matched test.\n",
    "knn = KNeighborsClassifier(n_neighbors=27)\n",
    "#knn.fit(X_train, y_train)\n",
    "#print('k=27 Test Acc: %.3f' % knn.score(X_test, y_test))\n",
    "knn.fit(X_train, g_train_enc)\n",
    "print('k=2 Test Acc: %.3f' % knn.score(X_test, g_test_enc))"
   ]
  },
  {
   "cell_type": "code",
   "execution_count": 25,
   "metadata": {},
   "outputs": [
    {
     "name": "stdout",
     "output_type": "stream",
     "text": [
      "k=3 Test Acc: 0.740\n"
     ]
    }
   ],
   "source": [
    "knn.fit(X_train, n_train_enc)\n",
    "print('k=3 Test Acc: %.3f' % knn.score(X_test, n_test_enc))"
   ]
  },
  {
   "cell_type": "code",
   "execution_count": 26,
   "metadata": {},
   "outputs": [
    {
     "name": "stdout",
     "output_type": "stream",
     "text": [
      "k=7 Test Acc: 0.604\n"
     ]
    }
   ],
   "source": [
    "knn.fit(X_train, i_train_enc)\n",
    "print('k=7 Test Acc: %.3f' % knn.score(X_test, i_test_enc))"
   ]
  },
  {
   "cell_type": "code",
   "execution_count": 23,
   "metadata": {},
   "outputs": [],
   "source": [
    "#calculate MSE\n",
    "#predicted = knn.predict(X_test)\n",
    "#mse = mean_squared_error(y_test, predicted)\n",
    "#mse = mean_squared_error(g_test_enc, predicted)\n",
    "#r2 = r2_score(y_test, predicted)\n",
    "#r2 = r2_score((g_test_enc, predicted)\n",
    "####print(f\"Gender Mean squared Error (MSE) : {mse}\")\n",
    "####print(f\"Gender R-squared (R2): {r2}\")\n",
    "#print(f\"R2: {r2}\")\n",
    "#print(f\"Gender Mean squared Error: {mse}\")"
   ]
  },
  {
   "cell_type": "code",
   "execution_count": null,
   "metadata": {},
   "outputs": [],
   "source": []
  }
 ],
 "metadata": {
  "kernelspec": {
   "display_name": "ut-keras",
   "language": "python",
   "name": "ut-keras"
  },
  "language_info": {
   "codemirror_mode": {
    "name": "ipython",
    "version": 3
   },
   "file_extension": ".py",
   "mimetype": "text/x-python",
   "name": "python",
   "nbconvert_exporter": "python",
   "pygments_lexer": "ipython3",
   "version": "3.6.8"
  },
  "varInspector": {
   "cols": {
    "lenName": 16,
    "lenType": 16,
    "lenVar": 40
   },
   "kernels_config": {
    "python": {
     "delete_cmd_postfix": "",
     "delete_cmd_prefix": "del ",
     "library": "var_list.py",
     "varRefreshCmd": "print(var_dic_list())"
    },
    "r": {
     "delete_cmd_postfix": ") ",
     "delete_cmd_prefix": "rm(",
     "library": "var_list.r",
     "varRefreshCmd": "cat(var_dic_list()) "
    }
   },
   "types_to_exclude": [
    "module",
    "function",
    "builtin_function_or_method",
    "instance",
    "_Feature"
   ],
   "window_display": false
  }
 },
 "nbformat": 4,
 "nbformat_minor": 2
}
