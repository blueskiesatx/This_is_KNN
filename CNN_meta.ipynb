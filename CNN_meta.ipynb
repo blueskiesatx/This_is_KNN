{
 "cells": [
  {
   "cell_type": "code",
   "execution_count": 1,
   "metadata": {},
   "outputs": [
    {
     "name": "stderr",
     "output_type": "stream",
     "text": [
      "Using TensorFlow backend.\n"
     ]
    }
   ],
   "source": [
    "import warnings\n",
    "warnings.filterwarnings('ignore')\n",
    "import keras\n",
    "from voicedata import voicedata\n",
    "import matplotlib.pyplot as plt"
   ]
  },
  {
   "cell_type": "code",
   "execution_count": 2,
   "metadata": {},
   "outputs": [
    {
     "name": "stdout",
     "output_type": "stream",
     "text": [
      "(6750, 4)\n",
      "(2250, 4)\n"
     ]
    }
   ],
   "source": [
    "vtrainfile = 'vtrain_200'\n",
    "vtestfile  = 'vtest_200'\n",
    "(X_train, X_test,\n",
    "genc, g_train, g_train_enc, g_train_cat, g_test, g_test_enc, g_test_cat,\n",
    "nenc, n_train, n_train_enc, n_train_cat, n_test, n_test_enc, n_test_cat,\n",
    "ienc, i_train, i_train_enc, i_train_cat, i_test, i_test_enc, i_test_cat) = voicedata(vtrainfile, vtestfile)\n"
   ]
  },
  {
   "cell_type": "code",
   "execution_count": 3,
   "metadata": {},
   "outputs": [
    {
     "name": "stdout",
     "output_type": "stream",
     "text": [
      "(6750, 40)\n",
      "(2250, 40)\n",
      "(6750, 2)\n",
      "(2250, 2)\n",
      "(6750, 17)\n",
      "(2250, 17)\n",
      "(6750, 200)\n",
      "(2250, 200)\n"
     ]
    }
   ],
   "source": [
    "print(X_train.shape) \n",
    "print(X_test.shape) \n",
    "print(g_train_cat.shape) \n",
    "print(g_test_cat.shape) \n",
    "print(n_train_cat.shape) \n",
    "print(n_test_cat.shape) \n",
    "print(i_train_cat.shape) \n",
    "print(i_test_cat.shape) "
   ]
  },
  {
   "cell_type": "markdown",
   "metadata": {},
   "source": [
    "# Build Model"
   ]
  },
  {
   "cell_type": "code",
   "execution_count": 5,
   "metadata": {},
   "outputs": [],
   "source": [
    "from keras.models import Sequential\n",
    "from keras.layers import Dense\n",
    "\n",
    "def run_model(inputdim, outputdim, X_train, y_train_cat, e, ulist):\n",
    "    # Create model and add layers\n",
    "    model = Sequential()\n",
    "    model.add(Dense(units=ulist[0], activation='relu', input_dim=inputdim))\n",
    "    for u in ulist[1:]:\n",
    "        model.add(Dense(units=u, activation='relu'))\n",
    "    model.add(Dense(units=outputdim, activation='softmax'))\n",
    "\n",
    "    # Compile and fit the model\n",
    "    model.compile(optimizer='adam',\n",
    "                  loss='categorical_crossentropy',\n",
    "                  metrics=['accuracy'])\n",
    "    model.fit(\n",
    "        X_train,\n",
    "        y_train_cat,\n",
    "        epochs=e,\n",
    "        shuffle=True,\n",
    "        verbose=0)\n",
    "    return model\n",
    "\n",
    "def check_model(model, X_test, y_test_cat, yenc, y_test, count):\n",
    "    model_loss, model_accuracy = model.evaluate(X_test, y_test_cat, verbose=0)\n",
    "    print(f\"Normal Neural Network - Loss: {model_loss}, Accuracy: {model_accuracy}\")\n",
    "    \n",
    "    encoded_predictions = model.predict_classes(X_test[:count])\n",
    "    prediction_labels = yenc.inverse_transform(encoded_predictions)\n",
    "    print(f\"Predicted classes: {prediction_labels}\")\n",
    "    print(f\"Actual Labels: {list(y_test[:count])}\")"
   ]
  },
  {
   "cell_type": "code",
   "execution_count": 6,
   "metadata": {},
   "outputs": [
    {
     "name": "stdout",
     "output_type": "stream",
     "text": [
      "WARNING:tensorflow:From c:\\users\\la_le\\anaconda3\\envs\\ut-keras\\lib\\site-packages\\tensorflow\\python\\framework\\op_def_library.py:263: colocate_with (from tensorflow.python.framework.ops) is deprecated and will be removed in a future version.\n",
      "Instructions for updating:\n",
      "Colocations handled automatically by placer.\n",
      "WARNING:tensorflow:From c:\\users\\la_le\\anaconda3\\envs\\ut-keras\\lib\\site-packages\\tensorflow\\python\\ops\\math_ops.py:3066: to_int32 (from tensorflow.python.ops.math_ops) is deprecated and will be removed in a future version.\n",
      "Instructions for updating:\n",
      "Use tf.cast instead.\n"
     ]
    }
   ],
   "source": [
    "inputsize = X_train.shape[1]\n",
    "g_outputsize = g_train_cat.shape[1]\n",
    "loss_list = []\n",
    "acc_list = []\n",
    "for time in range(50, 501, 50):\n",
    "    gmodel = run_model(inputsize, g_outputsize, X_train, g_train_cat, time, [200, 100, 100])\n",
    "    model_loss, model_accuracy = gmodel.evaluate(X_test, g_test_cat, verbose=2)\n",
    "    loss_list.append(model_loss)\n",
    "    acc_list.append(model_accuracy)\n",
    "\n",
    "nlist = [\n",
    "    [100, 100],\n",
    "    [100, 100, 100],\n",
    "    [200, 100, 100],\n",
    "]"
   ]
  },
  {
   "cell_type": "code",
   "execution_count": 7,
   "metadata": {},
   "outputs": [
    {
     "name": "stdout",
     "output_type": "stream",
     "text": [
      "Normal Neural Network - Loss: 0.28008743885683485, Accuracy: 0.9728888888888889\n",
      "Predicted classes: ['m' 'm' 'f' 'f' 'm' 'm' 'm' 'f' 'f' 'f']\n",
      "Actual Labels: ['m', 'm', 'f', 'f', 'm', 'm', 'm', 'f', 'f', 'f']\n"
     ]
    }
   ],
   "source": [
    "check_model(gmodel, X_test, g_test_cat, genc, g_test, 10)"
   ]
  },
  {
   "cell_type": "code",
   "execution_count": 8,
   "metadata": {},
   "outputs": [],
   "source": [
    "n_outputsize = n_train_cat.shape[1]\n",
    "nmodel = run_model(inputsize, n_outputsize, X_train, n_train_cat, 100, [200, 200, 100])"
   ]
  },
  {
   "cell_type": "code",
   "execution_count": 9,
   "metadata": {},
   "outputs": [
    {
     "name": "stdout",
     "output_type": "stream",
     "text": [
      "Normal Neural Network - Loss: 1.6081173674265543, Accuracy: 0.8191111112170749\n",
      "Predicted classes: ['USA' 'USA' 'USA' 'USA' 'USA' 'USA' 'UK' 'USA' 'USA' 'USA']\n",
      "Actual Labels: ['USA', 'USA', 'USA', 'USA', 'USA', 'USA', 'USA', 'USA', 'USA', 'USA']\n"
     ]
    }
   ],
   "source": [
    "check_model(nmodel, X_test, n_test_cat, nenc, n_test, 10)"
   ]
  },
  {
   "cell_type": "code",
   "execution_count": 10,
   "metadata": {},
   "outputs": [],
   "source": [
    "i_outputsize = i_train_cat.shape[1]\n",
    "imodel = run_model(inputsize, i_outputsize, X_train, i_train_cat, 200, [200, 600, 500, 500, 400, 200])"
   ]
  },
  {
   "cell_type": "code",
   "execution_count": 11,
   "metadata": {},
   "outputs": [
    {
     "name": "stdout",
     "output_type": "stream",
     "text": [
      "Normal Neural Network - Loss: 4.4707077492607965, Accuracy: 0.6466666666666666\n",
      "Predicted classes: ['Lavell_Crawford' 'Jeff_Daniels' 'Kelly_Rutherford' 'Jillian_Michaels'\n",
      " 'Hunter_Parrish' 'Usher_Raymond' 'John_Lloyd_Young' 'Nadia_Bjorlin'\n",
      " 'Adrianne_Palicki' 'Jordana_Brewster']\n",
      "Actual Labels: ['Lavell_Crawford', 'Jeff_Daniels', 'Kelly_Rutherford', 'Jillian_Michaels', 'Hunter_Parrish', 'Usher_Raymond', 'Johnathon_Schaech', 'Nadia_Bjorlin', 'Adrianne_Palicki', 'Jordana_Brewster']\n"
     ]
    }
   ],
   "source": [
    "check_model(imodel, X_test, i_test_cat, ienc, i_test, 10)"
   ]
  },
  {
   "cell_type": "code",
   "execution_count": 12,
   "metadata": {},
   "outputs": [
    {
     "ename": "TypeError",
     "evalue": "savefig() missing 1 required positional argument: 'fname'",
     "output_type": "error",
     "traceback": [
      "\u001b[1;31m---------------------------------------------------------------------------\u001b[0m",
      "\u001b[1;31mTypeError\u001b[0m                                 Traceback (most recent call last)",
      "\u001b[1;32m<ipython-input-12-c48a85b258df>\u001b[0m in \u001b[0;36m<module>\u001b[1;34m\u001b[0m\n\u001b[0;32m      1\u001b[0m \u001b[0mplt\u001b[0m\u001b[1;33m.\u001b[0m\u001b[0mplot\u001b[0m\u001b[1;33m(\u001b[0m\u001b[0mrange\u001b[0m\u001b[1;33m(\u001b[0m\u001b[1;36m50\u001b[0m\u001b[1;33m,\u001b[0m\u001b[1;36m501\u001b[0m\u001b[1;33m,\u001b[0m\u001b[1;36m50\u001b[0m\u001b[1;33m)\u001b[0m\u001b[1;33m,\u001b[0m\u001b[0mloss_list\u001b[0m\u001b[1;33m)\u001b[0m\u001b[1;33m\u001b[0m\u001b[1;33m\u001b[0m\u001b[0m\n\u001b[1;32m----> 2\u001b[1;33m \u001b[0mplt\u001b[0m\u001b[1;33m.\u001b[0m\u001b[0msavefig\u001b[0m\u001b[1;33m(\u001b[0m\u001b[1;33m)\u001b[0m\u001b[1;33m\u001b[0m\u001b[1;33m\u001b[0m\u001b[0m\n\u001b[0m",
      "\u001b[1;32mc:\\users\\la_le\\anaconda3\\envs\\ut-keras\\lib\\site-packages\\matplotlib\\pyplot.py\u001b[0m in \u001b[0;36msavefig\u001b[1;34m(*args, **kwargs)\u001b[0m\n\u001b[0;32m    687\u001b[0m \u001b[1;32mdef\u001b[0m \u001b[0msavefig\u001b[0m\u001b[1;33m(\u001b[0m\u001b[1;33m*\u001b[0m\u001b[0margs\u001b[0m\u001b[1;33m,\u001b[0m \u001b[1;33m**\u001b[0m\u001b[0mkwargs\u001b[0m\u001b[1;33m)\u001b[0m\u001b[1;33m:\u001b[0m\u001b[1;33m\u001b[0m\u001b[1;33m\u001b[0m\u001b[0m\n\u001b[0;32m    688\u001b[0m     \u001b[0mfig\u001b[0m \u001b[1;33m=\u001b[0m \u001b[0mgcf\u001b[0m\u001b[1;33m(\u001b[0m\u001b[1;33m)\u001b[0m\u001b[1;33m\u001b[0m\u001b[1;33m\u001b[0m\u001b[0m\n\u001b[1;32m--> 689\u001b[1;33m     \u001b[0mres\u001b[0m \u001b[1;33m=\u001b[0m \u001b[0mfig\u001b[0m\u001b[1;33m.\u001b[0m\u001b[0msavefig\u001b[0m\u001b[1;33m(\u001b[0m\u001b[1;33m*\u001b[0m\u001b[0margs\u001b[0m\u001b[1;33m,\u001b[0m \u001b[1;33m**\u001b[0m\u001b[0mkwargs\u001b[0m\u001b[1;33m)\u001b[0m\u001b[1;33m\u001b[0m\u001b[1;33m\u001b[0m\u001b[0m\n\u001b[0m\u001b[0;32m    690\u001b[0m     \u001b[0mfig\u001b[0m\u001b[1;33m.\u001b[0m\u001b[0mcanvas\u001b[0m\u001b[1;33m.\u001b[0m\u001b[0mdraw_idle\u001b[0m\u001b[1;33m(\u001b[0m\u001b[1;33m)\u001b[0m   \u001b[1;31m# need this if 'transparent=True' to reset colors\u001b[0m\u001b[1;33m\u001b[0m\u001b[1;33m\u001b[0m\u001b[0m\n\u001b[0;32m    691\u001b[0m     \u001b[1;32mreturn\u001b[0m \u001b[0mres\u001b[0m\u001b[1;33m\u001b[0m\u001b[1;33m\u001b[0m\u001b[0m\n",
      "\u001b[1;31mTypeError\u001b[0m: savefig() missing 1 required positional argument: 'fname'"
     ]
    },
    {
     "data": {
      "image/png": "[encoded data removed]",
      "text/plain": [
       "<Figure size 432x288 with 1 Axes>"
      ]
     },
     "metadata": {
      "needs_background": "light"
     },
     "output_type": "display_data"
    }
   ],
   "source": [
    "plt.plot(range(50,501,50),loss_list)\n",
    "plt.savefig()"
   ]
  },
  {
   "cell_type": "code",
   "execution_count": 13,
   "metadata": {},
   "outputs": [
    {
     "data": {
      "text/plain": [
       "[<matplotlib.lines.Line2D at 0x2d17d05a780>]"
      ]
     },
     "execution_count": 13,
     "metadata": {},
     "output_type": "execute_result"
    },
    {
     "data": {
      "image/png": "[encoded data removed]",
      "text/plain": [
       "<Figure size 432x288 with 1 Axes>"
      ]
     },
     "metadata": {
      "needs_background": "light"
     },
     "output_type": "display_data"
    }
   ],
   "source": [
    " plt.plot(range(50,501,50),acc_list)"
   ]
  },
  {
   "cell_type": "code",
   "execution_count": null,
   "metadata": {},
   "outputs": [],
   "source": []
  },
  {
   "cell_type": "code",
   "execution_count": null,
   "metadata": {},
   "outputs": [],
   "source": []
  }
 ],
 "metadata": {
  "kernelspec": {
   "display_name": "ut-keras",
   "language": "python",
   "name": "ut-keras"
  },
  "language_info": {
   "codemirror_mode": {
    "name": "ipython",
    "version": 3
   },
   "file_extension": ".py",
   "mimetype": "text/x-python",
   "name": "python",
   "nbconvert_exporter": "python",
   "pygments_lexer": "ipython3",
   "version": "3.6.8"
  }
 },
 "nbformat": 4,
 "nbformat_minor": 2
}
